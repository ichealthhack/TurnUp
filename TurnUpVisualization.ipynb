{
 "cells": [
  {
   "cell_type": "markdown",
   "metadata": {},
   "source": [
    "# TurnUpVisualization"
   ]
  },
  {
   "cell_type": "markdown",
   "metadata": {},
   "source": [
    "## Imports "
   ]
  },
  {
   "cell_type": "code",
   "execution_count": null,
   "metadata": {
    "collapsed": false
   },
   "outputs": [],
   "source": [
    "import numpy as np\n",
    "import pandas as pds\n",
    "import seaborn as sns\n",
    "import matplotlib.pyplot as plt\n",
    "from sklearn.metrics import accuracy_score\n",
    "from sklearn.naive_bayes import MultinomialNB\n",
    "from sklearn.metrics import roc_curve, auc"
   ]
  },
  {
   "cell_type": "markdown",
   "metadata": {},
   "source": [
    "## Data Cleanup"
   ]
  },
  {
   "cell_type": "code",
   "execution_count": null,
   "metadata": {
    "collapsed": true
   },
   "outputs": [],
   "source": [
    "# Input data from csv\n",
    "data = pds.read_csv('No-show-Issue-Comma-300k-corrected.csv')\n",
    "\n",
    "# Turn gender inot a binary value (Male is 1 and female is 0)\n",
    "data.Gender = data.Gender.apply(lambda x: 1 if x == 'M' else 0)\n",
    "\n",
    "# Turn day of the week into a number\n",
    "days = ['Monday', 'Tuesday', 'Wednesday', 'Thursday', 'Friday', 'Saturday', 'Sunday']\n",
    "data.DayOfTheWeek = data.DayOfTheWeek.apply(lambda x: days.index(x))"
   ]
  },
  {
   "cell_type": "code",
   "execution_count": null,
   "metadata": {
    "collapsed": false
   },
   "outputs": [],
   "source": [
    "def prob_calc(data, variable):\n",
    "    df = pds.crosstab(index = data[variable], columns = data.Status).reset_index()\n",
    "    # print(df) Number of show up depending on each value of the variable\n",
    "    df['ProbabilityTurnUp'] = df[1] / (df[0] + df[1])\n",
    "    return df[[variable, 'ProbabilityTurnUp']]\n",
    "\n",
    "# Put each gradient in a list\n",
    "def find_gradient(variable, p):\n",
    "    xs = p.get_lines()[0].get_xdata()\n",
    "    dx = xs[0] - xs[len(xs) - 1]\n",
    "    ys = p.get_lines()[0].get_ydata()\n",
    "    dy = ys[0] - ys[len(ys) - 1]\n",
    "    gradient = dy / dx\n",
    "    gradients.append((abs(gradient), variable))\n",
    "\n",
    "# Linear regression when chaning only the passed variable\n",
    "def plot_wrt_variable(data, variable):\n",
    "    sns.set_style(\"whitegrid\")\n",
    "    newdata = prob_calc(data, variable)\n",
    "    sns.lmplot(data = newdata, x = variable, y = 'ProbabilityTurnUp', fit_reg = True)\n",
    "    # Find regression line gradient - rate of change of probability wrt variable\n",
    "    p = sns.regplot(data = newdata, x = variable, y = 'ProbabilityTurnUp')\n",
    "    find_gradient(variable, p)\n",
    "    from_x = min(list(data[variable]))\n",
    "    to_x = max(list(data[variable]))\n",
    "    sns.plt.xlim(from_x, to_x)\n",
    "    sns.plt.ylim(0.0, 1.0)\n",
    "    sns.plt.title('Probability of showing up with respect to {}'.format(variable))\n",
    "\n",
    " \n",
    "# Rate of change wrt to each variable assuming they are independent\n",
    "gradients = []\n",
    "\n",
    "feature_list = [\n",
    "#'Status', Using status is like using the answer to find the answer\n",
    "'AwaitingTime',\n",
    "'Age',\n",
    "'Month',\n",
    "'HourOfTheDay',\n",
    "'DayOfTheWeek',\n",
    "'Gender',\n",
    "'Sms_Reminder',\n",
    "'Handicap',\n",
    "'Smokes',\n",
    "'Diabetes',\n",
    "'Scholarship',\n",
    "'Hypertension',\n",
    "'Alchoholism',\n",
    "'Tuberculosis'\n",
    "]\n",
    "\n",
    "# Get binary features that needs different charting\n",
    "binary_feature_list = [\n",
    "    'Gender',\n",
    "    'Diabetes',\n",
    "    'Alchoholism',\n",
    "    'Hypertension',\n",
    "    'Handicap',\n",
    "    'Smokes',\n",
    "    'Scholarship',\n",
    "    'Tuberculosis',\n",
    "    'Sms_Reminder',\n",
    "]\n",
    "\n",
    "# Use 80% for training, 20% for testing\n",
    "total = 296400\n",
    "train = int(0.8 * total)\n",
    "\n",
    "# Training Data (select first 80% of rows)\n",
    "features_train = data[feature_list].iloc[:train]\n",
    "# Testing Data (select last 20% of rows)\n",
    "features_test = data[feature_list].iloc[train:]\n",
    "\n",
    "# Results (outputs) for testing set\n",
    "testing_output_list = data.Status[train:]\n",
    "# Results (outputs) for training set\n",
    "training_output_list = data.Status[:train]\n",
    "\n",
    "# Multinomial naive bayes classification\n",
    "clf =  MultinomialNB().fit(features_train, training_output_list)\n",
    "print('Accuracy: ', round(accuracy_score(testing_output_list, clf.predict(features_test)), 3) * 100, '%')\n",
    "\n",
    "# Compute and display AUC\n",
    "results = clf.predict_proba(features_test)\n",
    "fpr = dict()\n",
    "tpr = dict()\n",
    "roc_auc = dict()\n",
    "fpr, tpr, _ = roc_curve(testing_output_list, [i[1] for i in results])\n",
    "roc_auc = auc(fpr, tpr)\n",
    "print('AUC: ', roc_auc)\n",
    "plt.plot(fpr, tpr, 'ro')\n",
    "\n",
    "# Plot how each variable independently affects the probability of showing up\n",
    "for variable in feature_list:\n",
    "    plot_wrt_variable(data, variable)\n",
    "\n",
    "sns.plt.show()\n",
    "plt.show()"
   ]
  },
  {
   "cell_type": "code",
   "execution_count": null,
   "metadata": {
    "collapsed": true
   },
   "outputs": [],
   "source": []
  },
  {
   "cell_type": "code",
   "execution_count": null,
   "metadata": {
    "collapsed": true
   },
   "outputs": [],
   "source": []
  }
 ],
 "metadata": {
  "kernelspec": {
   "display_name": "Python 3",
   "language": "python",
   "name": "python3"
  },
  "language_info": {
   "codemirror_mode": {
    "name": "ipython",
    "version": 3
   },
   "file_extension": ".py",
   "mimetype": "text/x-python",
   "name": "python",
   "nbconvert_exporter": "python",
   "pygments_lexer": "ipython3",
   "version": "3.5.3"
  }
 },
 "nbformat": 4,
 "nbformat_minor": 2
}
